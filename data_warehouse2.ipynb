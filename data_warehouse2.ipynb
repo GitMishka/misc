{
  "nbformat": 4,
  "nbformat_minor": 0,
  "metadata": {
    "colab": {
      "provenance": [],
      "authorship_tag": "ABX9TyNfT83+Di3rdBt7kopKoNNi",
      "include_colab_link": true
    },
    "kernelspec": {
      "name": "python3",
      "display_name": "Python 3"
    },
    "language_info": {
      "name": "python"
    }
  },
  "cells": [
    {
      "cell_type": "markdown",
      "metadata": {
        "id": "view-in-github",
        "colab_type": "text"
      },
      "source": [
        "<a href=\"https://colab.research.google.com/github/GitMishka/misc/blob/main/data_warehouse2.ipynb\" target=\"_parent\"><img src=\"https://colab.research.google.com/assets/colab-badge.svg\" alt=\"Open In Colab\"/></a>"
      ]
    },
    {
      "cell_type": "code",
      "execution_count": null,
      "metadata": {
        "id": "gbIF18Th-SeC"
      },
      "outputs": [],
      "source": [
        "!pip install snowflake-connector-python[pandas]\n"
      ]
    },
    {
      "cell_type": "code",
      "source": [
        "import snowflake.connector\n",
        "import pandas as pd\n",
        "\n",
        "con = snowflake.connector.connect(\n",
        "    user='YOUR_USERNAME',\n",
        "    password='YOUR_PASSWORD',\n",
        "    account='YOUR_ACCOUNT_URL',\n",
        "    warehouse='YOUR_WAREHOUSE',\n",
        "    database='YOUR_DATABASE',\n",
        "    schema='YOUR_SCHEMA'\n",
        ")\n"
      ],
      "metadata": {
        "id": "7bflQct3-VoM"
      },
      "execution_count": null,
      "outputs": []
    },
    {
      "cell_type": "code",
      "source": [
        "con.cursor().execute(\"\"\"\n",
        "CREATE TABLE IF NOT EXISTS TEST_TABLE (\n",
        "    COLUMN1 STRING,\n",
        "    COLUMN2 NUMBER,\n",
        "    COLUMN3 TIMESTAMP\n",
        ")\n",
        "\"\"\")\n",
        "\n",
        "con.cursor().execute(\"\"\"\n",
        "INSERT INTO TEST_TABLE (COLUMN1, COLUMN2, COLUMN3)\n",
        "VALUES ('test', 123, CURRENT_TIMESTAMP())\n",
        "\"\"\")\n",
        "\n",
        "df = pd.read_sql_query('SELECT * FROM TEST_TABLE', con)\n",
        "\n",
        "print(df)\n"
      ],
      "metadata": {
        "id": "R1U9jdQ--XiM"
      },
      "execution_count": null,
      "outputs": []
    }
  ]
}