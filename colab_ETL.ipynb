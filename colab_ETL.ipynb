{
  "nbformat": 4,
  "nbformat_minor": 0,
  "metadata": {
    "colab": {
      "provenance": [],
      "authorship_tag": "ABX9TyNb/4dEcVf8qdrFdh5TtpRm",
      "include_colab_link": true
    },
    "kernelspec": {
      "name": "python3",
      "display_name": "Python 3"
    },
    "language_info": {
      "name": "python"
    }
  },
  "cells": [
    {
      "cell_type": "markdown",
      "metadata": {
        "id": "view-in-github",
        "colab_type": "text"
      },
      "source": [
        "<a href=\"https://colab.research.google.com/github/GitMishka/misc/blob/main/colab_ETL.ipynb\" target=\"_parent\"><img src=\"https://colab.research.google.com/assets/colab-badge.svg\" alt=\"Open In Colab\"/></a>"
      ]
    },
    {
      "cell_type": "code",
      "execution_count": null,
      "metadata": {
        "colab": {
          "base_uri": "https://localhost:8080/"
        },
        "id": "4SDrnZy6cvEx",
        "outputId": "24c56cef-1197-4b8d-b614-9430082d3a9a"
      },
      "outputs": [
        {
          "output_type": "stream",
          "name": "stderr",
          "text": [
            "IOPub data rate exceeded.\n",
            "The notebook server will temporarily stop sending output\n",
            "to the client in order to avoid crashing it.\n",
            "To change this limit, set the config variable\n",
            "`--NotebookApp.iopub_data_rate_limit`.\n",
            "\n",
            "Current values:\n",
            "NotebookApp.iopub_data_rate_limit=1000000.0 (bytes/sec)\n",
            "NotebookApp.rate_limit_window=3.0 (secs)\n",
            "\n"
          ]
        }
      ],
      "source": [
        "import requests\n",
        "\n",
        "url = 'https://earthquake.usgs.gov/earthquakes/feed/v1.0/summary/all_month.geojson'\n",
        "response = requests.get(url)\n",
        "\n",
        "data = response.json()\n",
        "print(data)"
      ]
    },
    {
      "cell_type": "code",
      "source": [
        "# Initialize an empty list to store the transformed data\n",
        "earthquakes = []\n",
        "\n",
        "# Extract the required data from the response\n",
        "for feature in data['features']:\n",
        "    properties = feature['properties']\n",
        "    earthquakes.append((properties['mag'], properties['place'], properties['time']))\n"
      ],
      "metadata": {
        "colab": {
          "base_uri": "https://localhost:8080/"
        },
        "id": "RXtNs4HGdMl6",
        "outputId": "5fc7b4e9-bc79-445d-fa0f-304cddf0e66b"
      },
      "execution_count": null,
      "outputs": [
        {
          "output_type": "stream",
          "name": "stderr",
          "text": [
            "IOPub data rate exceeded.\n",
            "The notebook server will temporarily stop sending output\n",
            "to the client in order to avoid crashing it.\n",
            "To change this limit, set the config variable\n",
            "`--NotebookApp.iopub_data_rate_limit`.\n",
            "\n",
            "Current values:\n",
            "NotebookApp.iopub_data_rate_limit=1000000.0 (bytes/sec)\n",
            "NotebookApp.rate_limit_window=3.0 (secs)\n",
            "\n"
          ]
        }
      ]
    },
    {
      "cell_type": "code",
      "source": [
        "import sqlite3\n",
        "\n",
        "# Connect to the SQLite database (it will be created if it doesn't exist)\n",
        "conn = sqlite3.connect('earthquakes.db')\n",
        "c = conn.cursor()\n",
        "\n",
        "# Create a new table\n",
        "c.execute('''\n",
        "    CREATE TABLE earthquakes \n",
        "    (mag REAL, place TEXT, time REAL)\n",
        "''')\n",
        "\n",
        "# Insert the data into the table\n",
        "c.executemany('''\n",
        "    INSERT INTO earthquakes VALUES (?, ?, ?)\n",
        "''', earthquakes)\n",
        "\n",
        "# Commit the changes and close the connection\n",
        "conn.commit()\n",
        "conn.close()\n"
      ],
      "metadata": {
        "id": "Qwj3T5t2dQIE"
      },
      "execution_count": null,
      "outputs": []
    },
    {
      "cell_type": "code",
      "source": [
        "# Connect to the SQLite database\n",
        "conn = sqlite3.connect('earthquakes.db')\n",
        "c = conn.cursor()\n",
        "\n",
        "# Execute the query\n",
        "c.execute('''\n",
        "    SELECT * FROM earthquakes \n",
        "    WHERE mag > 5\n",
        "''')\n",
        "\n",
        "# Fetch and print the results\n",
        "rows = c.fetchall()\n",
        "for row in rows:\n",
        "    print(row)\n",
        "\n",
        "# Close the connection\n",
        "conn.close()\n"
      ],
      "metadata": {
        "colab": {
          "base_uri": "https://localhost:8080/"
        },
        "id": "tTBh5mgmdTBN",
        "outputId": "443e7994-566d-4677-f631-500cb40c62fa"
      },
      "execution_count": null,
      "outputs": [
        {
          "output_type": "stream",
          "name": "stdout",
          "text": [
            "(5.3, '166 km SSW of Kokopo, Papua New Guinea', 1685577917507.0)\n",
            "(5.2, 'Seram, Indonesia', 1685570198451.0)\n",
            "(5.5, 'off the east coast of the Kamchatka Peninsula, Russia', 1685541705537.0)\n",
            "(5.8, '125 km WSW of Myitkyina, Myanmar', 1685532013509.0)\n",
            "(5.1, 'Turkmenistan', 1685505889967.0)\n",
            "(6.3, 'Auckland Islands, New Zealand region', 1685499683155.0)\n",
            "(5.5, '68 km SW of La Tirana, Chile', 1685465496770.0)\n",
            "(5.8, 'Volcano Islands, Japan region', 1685407926116.0)\n",
            "(5.7, 'southwest of Africa', 1685397124854.0)\n",
            "(5.2, '21 km WNW of Port-Olry, Vanuatu', 1685354700457.0)\n",
            "(5.1, 'Northern Peru', 1685336253108.0)\n",
            "(5.3, 'northern Colombia', 1685288756635.0)\n",
            "(5.1, '42 km W of Kimbe, Papua New Guinea', 1685278359263.0)\n",
            "(5.3, '35 km SE of Jurm, Afghanistan', 1685252996404.0)\n",
            "(5.6, 'Solomon Islands', 1685244595344.0)\n",
            "(5.5, 'South Sandwich Islands region', 1685200907810.0)\n",
            "(6.0, '127 km W of Neiafu, Tonga', 1685146260980.0)\n",
            "(5.9, 'West Chile Rise', 1685139505307.0)\n",
            "(5.1, '177 km WNW of Tual, Indonesia', 1685136841517.0)\n",
            "(6.1, 'near the east coast of Honshu, Japan', 1685095404417.0)\n",
            "(5.2, 'New Britain region, Papua New Guinea', 1685066880096.0)\n",
            "(5.1, 'South Sandwich Islands region', 1685032442457.0)\n",
            "(5.2, '72 km N of Basco, Philippines', 1685022508834.0)\n",
            "(5.1, '129 km NE of Maumere, Indonesia', 1685017267095.0)\n",
            "(5.5, 'southeast of the Loyalty Islands', 1685011177614.0)\n",
            "(6.5, '46 km NE of Puerto Obaldía, Panama', 1684983933026.0)\n",
            "(6.2, 'Banda Sea', 1684943374919.0)\n",
            "(5.5, 'Pacific-Antarctic Ridge', 1684924399587.0)\n",
            "(5.2, '40 km SSW of Maitum, Philippines', 1684889046683.0)\n",
            "(5.1, '204 km NW of Tobelo, Indonesia', 1684854295574.0)\n",
            "(6.1, '288 km E of Vao, New Caledonia', 1684824118975.0)\n",
            "(5.1, 'southeast of the Loyalty Islands', 1684822934145.0)\n",
            "(5.1, '236 km ESE of Tadine, New Caledonia', 1684796053554.0)\n",
            "(5.2, '157 km ENE of Gizo, Solomon Islands', 1684762572759.0)\n",
            "(5.1, 'near the south coast of Honshu, Japan', 1684741360378.0)\n",
            "(5.5, 'southeast of the Loyalty Islands', 1684738367409.0)\n",
            "(5.2, 'Banda Sea', 1684730720490.0)\n",
            "(5.5, '133 km WSW of Kurio, Japan', 1684707604201.0)\n",
            "(5.4, 'west of Macquarie Island', 1684703500867.0)\n",
            "(5.58, '108km W of Petrolia, CA', 1684694641400.0)\n",
            "(5.1, 'Prince Edward Islands region', 1684689800311.0)\n",
            "(6.1, '55 km WNW of Kirakira, Solomon Islands', 1684683913032.0)\n",
            "(6.8, 'Prince Edward Islands region', 1684681005352.0)\n",
            "(5.2, '106 km SE of Neiafu, Tonga', 1684668363608.0)\n",
            "(5.8, 'Tonga', 1684646591387.0)\n",
            "(5.1, 'South Sandwich Islands region', 1684625606158.0)\n",
            "(5.1, 'southeast of the Loyalty Islands', 1684620527835.0)\n",
            "(5.2, 'southeast of the Loyalty Islands', 1684589367068.0)\n",
            "(5.1, 'southeast of the Loyalty Islands', 1684589237169.0)\n",
            "(5.3, 'southeast of the Loyalty Islands', 1684582567862.0)\n",
            "(5.2, '284 km E of Vao, New Caledonia', 1684557254758.0)\n",
            "(5.1, '299 km E of Vao, New Caledonia', 1684557086916.0)\n",
            "(5.1, 'southeast of the Loyalty Islands', 1684554414304.0)\n",
            "(5.3, 'southeast of the Loyalty Islands', 1684551386803.0)\n",
            "(5.4, '298 km E of Vao, New Caledonia', 1684549222592.0)\n",
            "(5.4, 'southeast of the Loyalty Islands', 1684549069051.0)\n",
            "(6.5, 'southeast of the Loyalty Islands', 1684548594412.0)\n",
            "(5.1, 'southeast of the Loyalty Islands', 1684548396348.0)\n",
            "(5.1, 'southeast of the Loyalty Islands', 1684548236475.0)\n",
            "(7.1, 'southeast of the Loyalty Islands', 1684547461088.0)\n",
            "(5.1, 'southeast of the Loyalty Islands', 1684533839771.0)\n",
            "(5.7, '159 km NNW of Qandala, Somalia', 1684509303147.0)\n",
            "(5.2, 'southeast of the Loyalty Islands', 1684493194488.0)\n",
            "(5.1, 'southeast of the Loyalty Islands', 1684493052679.0)\n",
            "(5.3, 'southeast of the Loyalty Islands', 1684484842757.0)\n",
            "(5.5, 'southeast of the Loyalty Islands', 1684480419533.0)\n",
            "(5.2, 'southeast of the Loyalty Islands', 1684474608103.0)\n",
            "(5.2, 'southeast of the Loyalty Islands', 1684473947106.0)\n",
            "(5.2, 'southeast of the Loyalty Islands', 1684472764510.0)\n",
            "(5.5, 'southeast of the Loyalty Islands', 1684472044210.0)\n",
            "(5.1, 'southeast of the Loyalty Islands', 1684471814569.0)\n",
            "(5.1, 'southeast of the Loyalty Islands', 1684470787202.0)\n",
            "(5.3, 'southeast of the Loyalty Islands', 1684470158415.0)\n",
            "(5.4, 'southeast of the Loyalty Islands', 1684469363319.0)\n",
            "(5.3, 'southeast of the Loyalty Islands', 1684468950932.0)\n",
            "(5.1, '57 km E of La Tirana, Chile', 1684468721412.0)\n",
            "(5.4, 'southeast of the Loyalty Islands', 1684466877069.0)\n",
            "(5.3, 'southeast of the Loyalty Islands', 1684465983525.0)\n",
            "(5.7, 'southeast of the Loyalty Islands', 1684465844635.0)\n",
            "(5.9, 'southeast of the Loyalty Islands', 1684465584877.0)\n",
            "(5.5, 'southeast of the Loyalty Islands', 1684465427964.0)\n",
            "(7.7, 'southeast of the Loyalty Islands', 1684465023129.0)\n",
            "(5.1, '7 km SSW of Moíres, Greece', 1684436330963.0)\n",
            "(5.1, 'South Sandwich Islands region', 1684410976738.0)\n",
            "(6.4, '2 km SE of Canillá, Guatemala', 1684364520237.0)\n",
            "(5.3, '255 km WSW of Olonkinbyen, Svalbard and Jan Mayen', 1684206537676.0)\n",
            "(5.3, '95 km W of Abra Pampa, Argentina', 1684136379508.0)\n",
            "(5.1, 'Izu Islands, Japan region', 1684081372692.0)\n",
            "(5.2, '143 km SSE of Shimoda, Japan', 1684073010352.0)\n",
            "(5.6, '141 km SSE of Shimoda, Japan', 1684059095287.0)\n",
            "(5.1, '222 km NNE of Fais, Micronesia', 1684057782073.0)\n",
            "(5.8, '152 km SSE of Shimoda, Japan', 1684052501106.0)\n",
            "(5.5, '148 km SSE of Shimoda, Japan', 1684051917241.0)\n",
            "(5.2, 'Banda Sea', 1684044832561.0)\n",
            "(5.4, 'Fox Islands, Aleutian Islands, Alaska', 1684009188604.0)\n",
            "(5.2, '53 km SW of Kurio, Japan', 1683961827414.0)\n",
            "(5.2, 'south of Tonga', 1683927999774.0)\n",
            "(5.16, '4km NW of Canyondam, CA', 1683886721310.0)\n",
            "(5.5, '109 km SSW of Merizo Village, Guam', 1683878551577.0)\n",
            "(5.48, 'Lake Almanor Earthquake', 1683847181990.0)\n",
            "(5.8, 'southwestern Ryukyu Islands, Japan', 1683811993759.0)\n",
            "(5.2, '23 km NNE of Honchō, Japan', 1683798764367.0)\n",
            "(5.2, '3 km NW of Kamogawa, Japan', 1683746202479.0)\n",
            "(5.1, '71 km WNW of Hihifo, Tonga', 1683736359657.0)\n",
            "(7.6, '95 km WNW of Hihifo, Tonga', 1683734520451.0)\n",
            "(5.1, '109 km SW of Port Blair, India', 1683639738282.0)\n",
            "(5.1, '63 km NNE of Kolonga, Tonga', 1683555271744.0)\n",
            "(5.9, 'southern East Pacific Rise', 1683525735883.0)\n",
            "(5.2, 'Ecuador', 1683507115846.0)\n",
            "(5.2, '45 km NNW of Dicabisagan, Philippines', 1683459381892.0)\n",
            "(5.2, '5 km NNW of Taltal, Chile', 1683440941001.0)\n",
            "(5.1, 'Kermadec Islands, New Zealand', 1683392376318.0)\n",
            "(5.1, '106 km SE of Vilyuchinsk, Russia', 1683388712538.0)\n",
            "(5.1, 'Volcano Islands, Japan region', 1683323188191.0)\n",
            "(5.9, '68 km ENE of Mutsu, Japan', 1683308836200.0)\n",
            "(5.6, '43 km NE of Anamizu, Japan', 1683291483883.0)\n",
            "(5.6, 'off the east coast of the North Island of New Zealand', 1683286629765.0)\n",
            "(6.2, 'near the west coast of Honshu, Japan', 1683265324365.0)\n",
            "(5.1, '53 km NW of Auki, Solomon Islands', 1683238834665.0)\n",
            "(5.4, 'Luzon, Philippines', 1683161345487.0)\n",
            "(5.4, 'southern East Pacific Rise', 1683156346766.0)\n",
            "(5.3, '42 km SSW of Jurm, Afghanistan', 1683107479974.0)\n",
            "(5.2, '227 km SSE of Sarangani, Philippines', 1683076985737.0)\n",
            "(5.5, '14 km NW of Ambunti, Papua New Guinea', 1683058198992.0)\n",
            "(5.3, '27 km WSW of Bonan, China', 1683041243390.0)\n",
            "(5.1, 'Vanuatu region', 1683040031378.0)\n"
          ]
        }
      ]
    }
  ]
}